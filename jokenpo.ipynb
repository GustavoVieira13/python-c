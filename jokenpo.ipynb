{
 "cells": [
  {
   "cell_type": "markdown",
   "metadata": {},
   "source": [
    "## Jogo Jokenpo - Gustavo Vieira\n",
    "Também conhecido como pedra, papel, tesoura."
   ]
  },
  {
   "cell_type": "code",
   "execution_count": null,
   "metadata": {},
   "outputs": [],
   "source": [
    "import random\n",
    "\n",
    "def vitoria(homem, maquina):\n",
    "    if (homem == \"p\" and maquina == \"t\") or (homem == \"t\" and maquina == \"e\") or (homem == \"e\" and maquina == \"p\"):\n",
    "        return True\n",
    "    else:\n",
    "        pass\n",
    "\n",
    "def jokenpo():\n",
    "    jogador = input(\"Pressione 'p' para pedra, 'e' para papel e 't' pra tesoura: \")\n",
    "    cpu = random.choice([\"p\", \"e\", \"t\"])\n",
    "    print(f\"A cpu jogou {cpu}.\")\n",
    "        \n",
    "    if jogador == cpu:\n",
    "        print(f\"Você jogou {jogador}.\")\n",
    "        return \"Empate :/\"\n",
    "    if vitoria(jogador, cpu):\n",
    "        print(f\"Você jogou {jogador}.\")\n",
    "        return \"Vitória! :D\"\n",
    "    return \"Derrota :(\""
   ]
  },
  {
   "cell_type": "code",
   "execution_count": null,
   "metadata": {},
   "outputs": [],
   "source": [
    "jokenpo()"
   ]
  },
  {
   "cell_type": "code",
   "execution_count": null,
   "metadata": {},
   "outputs": [],
   "source": []
  }
 ],
 "metadata": {
  "kernelspec": {
   "display_name": "Python 3",
   "language": "python",
   "name": "python3"
  },
  "language_info": {
   "codemirror_mode": {
    "name": "ipython",
    "version": 3
   },
   "file_extension": ".py",
   "mimetype": "text/x-python",
   "name": "python",
   "nbconvert_exporter": "python",
   "pygments_lexer": "ipython3",
   "version": "3.7.6"
  }
 },
 "nbformat": 4,
 "nbformat_minor": 4
}
